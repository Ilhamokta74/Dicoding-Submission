{
  "cells": [
    {
      "cell_type": "markdown",
      "metadata": {
        "id": "NxMWec-hcJP6"
      },
      "source": [
        "*   Nama : Ilham Oktavian\n",
        "*   Dataset : Rice_Image_Dataset.zip\n",
        "*   Link Dataset : https://www.muratkoklu.com/datasets/Rice_Image_Dataset.zip"
      ]
    },
    {
      "cell_type": "code",
      "execution_count": 10,
      "metadata": {
        "colab": {
          "base_uri": "https://localhost:8080/"
        },
        "id": "zg8qsYXllit7",
        "outputId": "1226e149-efaf-4692-e87b-8e5b71be2b57"
      },
      "outputs": [
        {
          "name": "stdout",
          "output_type": "stream",
          "text": [
            "Drive already mounted at /content/drive; to attempt to forcibly remount, call drive.mount(\"/content/drive\", force_remount=True).\n"
          ]
        }
      ],
      "source": [
        "from google.colab import drive\n",
        "drive.mount('/content/drive')"
      ]
    },
    {
      "cell_type": "code",
      "execution_count": 11,
      "metadata": {
        "id": "rJrPq1hBh7nq"
      },
      "outputs": [],
      "source": [
        "import zipfile, os\n",
        "import tensorflow as tf\n",
        "from tensorflow.keras.preprocessing.image import ImageDataGenerator\n",
        "from tensorflow.keras.models import Sequential\n",
        "from tensorflow.keras.layers import Conv2D, MaxPooling2D, Activation, Dense, Flatten, BatchNormalization, Dropout\n",
        "from tensorflow.keras.optimizers import Adam\n",
        "from keras.callbacks import ModelCheckpoint, EarlyStopping, ReduceLROnPlateau\n",
        "import matplotlib.pyplot as plt\n",
        "import warnings"
      ]
    },
    {
      "cell_type": "code",
      "execution_count": 12,
      "metadata": {
        "id": "jsw6-sxBr9K4"
      },
      "outputs": [],
      "source": [
        "# Extract the zip file\n",
        "local_zip = './drive/MyDrive/Rice_Image_Dataset.zip'\n",
        "zip_ref = zipfile.ZipFile(local_zip, 'r')\n",
        "zip_ref.extractall('/tmp')\n",
        "zip_ref.close()"
      ]
    },
    {
      "cell_type": "code",
      "execution_count": 13,
      "metadata": {
        "id": "y4I20sKntW4h"
      },
      "outputs": [],
      "source": [
        "# Define directories for different rice varieties\n",
        "base_dir = '/tmp/Rice_Image_Dataset'\n",
        "rice_varieties = ['Arborio', 'Basmati', 'Ipsala', 'Jasmine', 'Karacadag']\n",
        "directories = [os.path.join(base_dir, variety) for variety in rice_varieties]"
      ]
    },
    {
      "cell_type": "code",
      "execution_count": 14,
      "metadata": {
        "colab": {
          "base_uri": "https://localhost:8080/"
        },
        "id": "lcQT3lVdumTa",
        "outputId": "85328af2-fe59-4040-f046-1a5d1801d071"
      },
      "outputs": [
        {
          "name": "stdout",
          "output_type": "stream",
          "text": [
            "Total Data Arborio Image: 15000\n",
            "Total Data Basmati Image: 15000\n",
            "Total Data Ipsala Image: 15000\n",
            "Total Data Jasmine Image: 15000\n",
            "Total Data Karacadag Image: 15000\n"
          ]
        }
      ],
      "source": [
        "# Count the number of images in each directory\n",
        "total_counts = [len(os.listdir(directory)) for directory in directories]\n",
        "\n",
        "# Print the total number of images for each rice variety\n",
        "for variety, count in zip(rice_varieties, total_counts):\n",
        "    print(f\"Total Data {variety} Image: {count}\")"
      ]
    },
    {
      "cell_type": "code",
      "execution_count": 15,
      "metadata": {
        "id": "foAXZySxwK5e"
      },
      "outputs": [],
      "source": [
        "# ImageDataGenerator for augmentations\n",
        "val_size = 0.2\n",
        "\n",
        "datagen = ImageDataGenerator(\n",
        "    rotation_range=30,\n",
        "    brightness_range=[0.2, 1.0],\n",
        "    shear_range=0.2,\n",
        "    zoom_range=0.2,\n",
        "    horizontal_flip=True,\n",
        "    fill_mode=\"nearest\",\n",
        "    rescale=1./255,\n",
        "    validation_split=val_size\n",
        ")"
      ]
    },
    {
      "cell_type": "code",
      "execution_count": 16,
      "metadata": {
        "colab": {
          "base_uri": "https://localhost:8080/"
        },
        "id": "jFr7RumCwXty",
        "outputId": "4115adac-d32c-4c63-b61e-58551bad68f1"
      },
      "outputs": [
        {
          "name": "stdout",
          "output_type": "stream",
          "text": [
            "Found 60000 images belonging to 5 classes.\n",
            "Found 15000 images belonging to 5 classes.\n"
          ]
        }
      ],
      "source": [
        "# Train and Validation generators\n",
        "train_generator = datagen.flow_from_directory(\n",
        "    base_dir,\n",
        "    target_size=(150, 150),\n",
        "    color_mode=\"rgb\",\n",
        "    class_mode=\"categorical\",\n",
        "    batch_size=128,\n",
        "    shuffle=True,\n",
        "    subset=\"training\"\n",
        ")\n",
        "\n",
        "validation_generator = datagen.flow_from_directory(\n",
        "    base_dir,\n",
        "    target_size=(150, 150),\n",
        "    color_mode=\"rgb\",\n",
        "    class_mode=\"categorical\",\n",
        "    batch_size=128,\n",
        "    shuffle=False,\n",
        "    subset=\"validation\"\n",
        ")"
      ]
    },
    {
      "cell_type": "code",
      "execution_count": 24,
      "metadata": {
        "id": "LE8d87M_w6b0"
      },
      "outputs": [],
      "source": [
        "# Model\n",
        "model = Sequential([\n",
        "    Conv2D(32, (3, 3), activation='relu', input_shape=(150, 150, 3)),\n",
        "    BatchNormalization(),\n",
        "    Conv2D(32, (3, 3), activation='relu', padding='same'),\n",
        "    BatchNormalization(axis=3),\n",
        "    MaxPooling2D(pool_size=(2, 2), padding='same'),\n",
        "    Dropout(0.3),\n",
        "\n",
        "    Conv2D(64, (3, 3), activation='relu', padding='same'),\n",
        "    BatchNormalization(),\n",
        "    Conv2D(64, (3, 3), activation='relu', padding='same'),\n",
        "    BatchNormalization(axis=3),\n",
        "    MaxPooling2D(pool_size=(2, 2), padding='same'),\n",
        "    Dropout(0.3),\n",
        "\n",
        "    Conv2D(128, (3, 3), activation='relu', padding='same'),\n",
        "    BatchNormalization(),\n",
        "    Conv2D(128, (3, 3), activation='relu', padding='same'),\n",
        "    BatchNormalization(axis=3),\n",
        "    MaxPooling2D(pool_size=(2, 2), padding='same'),\n",
        "    Dropout(0.5),\n",
        "\n",
        "    Flatten(),\n",
        "    Dense(512, activation='relu'),\n",
        "    BatchNormalization(),\n",
        "    Dropout(0.5),\n",
        "    Dense(128, activation='relu'),\n",
        "    Dropout(0.25),\n",
        "    Dense(5, activation='softmax')\n",
        "])"
      ]
    },
    {
      "cell_type": "code",
      "execution_count": 25,
      "metadata": {
        "colab": {
          "base_uri": "https://localhost:8080/"
        },
        "id": "M_xNPT8qx1aS",
        "outputId": "0ad574ac-1675-4567-d578-1ef8a4449d3b"
      },
      "outputs": [
        {
          "name": "stdout",
          "output_type": "stream",
          "text": [
            "Model: \"sequential_1\"\n",
            "_________________________________________________________________\n",
            " Layer (type)                Output Shape              Param #   \n",
            "=================================================================\n",
            " conv2d_6 (Conv2D)           (None, 148, 148, 32)      896       \n",
            "                                                                 \n",
            " batch_normalization_7 (Bat  (None, 148, 148, 32)      128       \n",
            " chNormalization)                                                \n",
            "                                                                 \n",
            " conv2d_7 (Conv2D)           (None, 148, 148, 32)      9248      \n",
            "                                                                 \n",
            " batch_normalization_8 (Bat  (None, 148, 148, 32)      128       \n",
            " chNormalization)                                                \n",
            "                                                                 \n",
            " max_pooling2d_3 (MaxPoolin  (None, 74, 74, 32)        0         \n",
            " g2D)                                                            \n",
            "                                                                 \n",
            " dropout_5 (Dropout)         (None, 74, 74, 32)        0         \n",
            "                                                                 \n",
            " conv2d_8 (Conv2D)           (None, 74, 74, 64)        18496     \n",
            "                                                                 \n",
            " batch_normalization_9 (Bat  (None, 74, 74, 64)        256       \n",
            " chNormalization)                                                \n",
            "                                                                 \n",
            " conv2d_9 (Conv2D)           (None, 74, 74, 64)        36928     \n",
            "                                                                 \n",
            " batch_normalization_10 (Ba  (None, 74, 74, 64)        256       \n",
            " tchNormalization)                                               \n",
            "                                                                 \n",
            " max_pooling2d_4 (MaxPoolin  (None, 37, 37, 64)        0         \n",
            " g2D)                                                            \n",
            "                                                                 \n",
            " dropout_6 (Dropout)         (None, 37, 37, 64)        0         \n",
            "                                                                 \n",
            " conv2d_10 (Conv2D)          (None, 37, 37, 128)       73856     \n",
            "                                                                 \n",
            " batch_normalization_11 (Ba  (None, 37, 37, 128)       512       \n",
            " tchNormalization)                                               \n",
            "                                                                 \n",
            " conv2d_11 (Conv2D)          (None, 37, 37, 128)       147584    \n",
            "                                                                 \n",
            " batch_normalization_12 (Ba  (None, 37, 37, 128)       512       \n",
            " tchNormalization)                                               \n",
            "                                                                 \n",
            " max_pooling2d_5 (MaxPoolin  (None, 19, 19, 128)       0         \n",
            " g2D)                                                            \n",
            "                                                                 \n",
            " dropout_7 (Dropout)         (None, 19, 19, 128)       0         \n",
            "                                                                 \n",
            " flatten_1 (Flatten)         (None, 46208)             0         \n",
            "                                                                 \n",
            " dense_3 (Dense)             (None, 512)               23659008  \n",
            "                                                                 \n",
            " batch_normalization_13 (Ba  (None, 512)               2048      \n",
            " tchNormalization)                                               \n",
            "                                                                 \n",
            " dropout_8 (Dropout)         (None, 512)               0         \n",
            "                                                                 \n",
            " dense_4 (Dense)             (None, 128)               65664     \n",
            "                                                                 \n",
            " dropout_9 (Dropout)         (None, 128)               0         \n",
            "                                                                 \n",
            " dense_5 (Dense)             (None, 5)                 645       \n",
            "                                                                 \n",
            "=================================================================\n",
            "Total params: 24016165 (91.61 MB)\n",
            "Trainable params: 24014245 (91.61 MB)\n",
            "Non-trainable params: 1920 (7.50 KB)\n",
            "_________________________________________________________________\n"
          ]
        }
      ],
      "source": [
        "# Model Compilation\n",
        "model.compile(optimizer='adam', loss='categorical_crossentropy', metrics=['accuracy'])\n",
        "model.summary()"
      ]
    },
    {
      "cell_type": "markdown",
      "metadata": {
        "id": "H7IvNRxKAgmA"
      },
      "source": [
        "**Callbacks**"
      ]
    },
    {
      "cell_type": "code",
      "execution_count": 28,
      "metadata": {
        "id": "bBCoHFzH6CTy"
      },
      "outputs": [],
      "source": [
        "# Callbacks\n",
        "models_dir = \"saved_models\"\n",
        "if not os.path.exists(models_dir):\n",
        "    os.makedirs(models_dir)\n",
        "\n",
        "checkpointer = ModelCheckpoint(filepath='saved_models/model.hdf5',\n",
        "                               monitor='val_accuracy', mode='max',\n",
        "                               verbose=1, save_best_only=True)\n",
        "early_stopping = EarlyStopping(monitor='val_loss', mode='min', verbose=1, patience=3)\n",
        "reduce_lr = ReduceLROnPlateau(monitor='val_loss', factor=0.2, patience=2, min_lr=0.001)\n",
        "callbacks = [early_stopping, reduce_lr, checkpointer]"
      ]
    },
    {
      "cell_type": "code",
      "execution_count": 29,
      "metadata": {
        "colab": {
          "base_uri": "https://localhost:8080/"
        },
        "id": "HtWJmA5S6Gx_",
        "outputId": "09c423c7-db03-4a2d-87c7-4b4b7c2c7140"
      },
      "outputs": [
        {
          "name": "stdout",
          "output_type": "stream",
          "text": [
            "Epoch 1/40\n",
            "469/469 [==============================] - ETA: 0s - loss: 0.2727 - accuracy: 0.8996\n",
            "Epoch 1: val_accuracy improved from -inf to 0.20893, saving model to saved_models/model.hdf5\n"
          ]
        },
        {
          "name": "stderr",
          "output_type": "stream",
          "text": [
            "/usr/local/lib/python3.10/dist-packages/keras/src/engine/training.py:3103: UserWarning: You are saving your model as an HDF5 file via `model.save()`. This file format is considered legacy. We recommend using instead the native Keras format, e.g. `model.save('my_model.keras')`.\n",
            "  saving_api.save_model(\n"
          ]
        },
        {
          "name": "stdout",
          "output_type": "stream",
          "text": [
            "\b\b\b\b\b\b\b\b\b\b\b\b\b\b\b\b\b\b\b\b\b\b\b\b\b\b\b\b\b\b\b\b\b\b\b\b\b\b\b\b\b\b\b\b\b\b\b\b\b\b\b\b\b\b\b\b\b\b\b\b\b\b\b\b\b\b\b\b\b\b\b\b\b\b\b\b\b\b\b\b\b\b\b\b\r469/469 [==============================] - 644s 1s/step - loss: 0.2727 - accuracy: 0.8996 - val_loss: 4.7552 - val_accuracy: 0.2089 - lr: 0.0010\n",
            "Epoch 2/40\n",
            "469/469 [==============================] - ETA: 0s - loss: 0.0791 - accuracy: 0.9729\n",
            "Epoch 2: val_accuracy improved from 0.20893 to 0.96507, saving model to saved_models/model.hdf5\n",
            "469/469 [==============================] - 635s 1s/step - loss: 0.0791 - accuracy: 0.9729 - val_loss: 0.1203 - val_accuracy: 0.9651 - lr: 0.0010\n",
            "Epoch 3/40\n",
            "469/469 [==============================] - ETA: 0s - loss: 0.0562 - accuracy: 0.9811\n",
            "Epoch 3: val_accuracy did not improve from 0.96507\n",
            "469/469 [==============================] - 599s 1s/step - loss: 0.0562 - accuracy: 0.9811 - val_loss: 1.8216 - val_accuracy: 0.7359 - lr: 0.0010\n",
            "Epoch 4/40\n",
            "469/469 [==============================] - ETA: 0s - loss: 0.0450 - accuracy: 0.9848\n",
            "Epoch 4: val_accuracy did not improve from 0.96507\n",
            "469/469 [==============================] - 597s 1s/step - loss: 0.0450 - accuracy: 0.9848 - val_loss: 202.6752 - val_accuracy: 0.2000 - lr: 0.0010\n",
            "Epoch 5/40\n",
            "469/469 [==============================] - ETA: 0s - loss: 0.0465 - accuracy: 0.9849\n",
            "Epoch 5: val_accuracy did not improve from 0.96507\n",
            "469/469 [==============================] - 597s 1s/step - loss: 0.0465 - accuracy: 0.9849 - val_loss: 0.6119 - val_accuracy: 0.8321 - lr: 0.0010\n",
            "Epoch 5: early stopping\n"
          ]
        }
      ],
      "source": [
        "# Model Training\n",
        "history = model.fit(train_generator, epochs=40, validation_data=validation_generator, callbacks=callbacks)"
      ]
    },
    {
      "cell_type": "code",
      "execution_count": 30,
      "metadata": {
        "colab": {
          "base_uri": "https://localhost:8080/",
          "height": 472
        },
        "id": "sXNdf0NczC5R",
        "outputId": "1fa3942b-282f-4ca7-ff81-cebe0ba6cda6"
      },
      "outputs": [
        {
          "data": {
            "image/png": "[encoded data removed]",
            "text/plain": [
              "<Figure size 640x480 with 1 Axes>"
            ]
          },
          "metadata": {},
          "output_type": "display_data"
        }
      ],
      "source": [
        "# Plot accuracy over epochs\n",
        "plt.plot(history.history['accuracy'])\n",
        "plt.plot(history.history['val_accuracy'])\n",
        "plt.title('Accuracy')\n",
        "plt.ylabel('accuracy')\n",
        "plt.xlabel('epoch')\n",
        "plt.legend(['train', 'val'], loc='upper left')\n",
        "plt.show()"
      ]
    },
    {
      "cell_type": "code",
      "execution_count": 31,
      "metadata": {
        "colab": {
          "base_uri": "https://localhost:8080/",
          "height": 472
        },
        "id": "uThgjAm5MCui",
        "outputId": "1f63661b-4a21-426b-c7a1-0bc578ec1b6b"
      },
      "outputs": [
        {
          "data": {
            "image/png": "[encoded data removed]",
            "text/plain": [
              "<Figure size 640x480 with 1 Axes>"
            ]
          },
          "metadata": {},
          "output_type": "display_data"
        }
      ],
      "source": [
        "# Plot loss over epochs\n",
        "plt.plot(history.history['loss'])\n",
        "plt.plot(history.history['val_loss'])\n",
        "plt.title('Loss')\n",
        "plt.ylabel('loss')\n",
        "plt.xlabel('epoch')\n",
        "plt.legend(['train', 'val'], loc='upper left')\n",
        "plt.show()"
      ]
    },
    {
      "cell_type": "code",
      "execution_count": 32,
      "metadata": {
        "id": "x_LzsYMDMIkr"
      },
      "outputs": [],
      "source": [
        "# TensorFlow Lite Conversion\n",
        "converter = tf.lite.TFLiteConverter.from_keras_model(model)\n",
        "tflite_model = converter.convert()\n",
        "\n",
        "# Save the model\n",
        "with tf.io.gfile.GFile('model.tflite', 'wb') as f:\n",
        "    f.write(tflite_model)"
      ]
    }
  ],
  "metadata": {
    "accelerator": "GPU",
    "colab": {
      "provenance": []
    },
    "kernelspec": {
      "display_name": "Python 3",
      "name": "python3"
    },
    "language_info": {
      "name": "python"
    }
  },
  "nbformat": 4,
  "nbformat_minor": 0
}
